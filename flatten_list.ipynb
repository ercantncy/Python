{
  "nbformat": 4,
  "nbformat_minor": 0,
  "metadata": {
    "colab": {
      "name": "flatten-list.ipynb",
      "provenance": [],
      "authorship_tag": "ABX9TyO2UcVVkIfaXzEu4TtwE+cd",
      "include_colab_link": true
    },
    "kernelspec": {
      "name": "python3",
      "display_name": "Python 3"
    },
    "language_info": {
      "name": "python"
    }
  },
  "cells": [
    {
      "cell_type": "markdown",
      "metadata": {
        "id": "view-in-github",
        "colab_type": "text"
      },
      "source": [
        "<a href=\"https://colab.research.google.com/github/ercantncy/Python/blob/master/flatten_list.ipynb\" target=\"_parent\"><img src=\"https://colab.research.google.com/assets/colab-badge.svg\" alt=\"Open In Colab\"/></a>"
      ]
    },
    {
      "cell_type": "markdown",
      "metadata": {
        "id": "Ehg4PujMZ2sx"
      },
      "source": [
        "**FLATTEN LİST**"
      ]
    },
    {
      "cell_type": "code",
      "metadata": {
        "id": "Nte4sugqSzr5"
      },
      "source": [
        "lst=[[1,'a',['cat'],2],[[[3]],'dog'],4,5]\n"
      ],
      "execution_count": 5,
      "outputs": []
    },
    {
      "cell_type": "code",
      "metadata": {
        "colab": {
          "base_uri": "https://localhost:8080/"
        },
        "id": "7MXFEgwbTd4x",
        "outputId": "5241df7b-3048-4739-d08e-74e1f52f32b9"
      },
      "source": [
        "def flatten_list(a, result=None):\n",
        "   \n",
        "    if result is None:\n",
        "        result = []\n",
        "\n",
        "    for x in a:\n",
        "        if isinstance(x, list):\n",
        "            flatten_list(x, result)\n",
        "        else:\n",
        "            result.append(x)\n",
        "    return result\n",
        "\n",
        "print(flatten_list(lst))"
      ],
      "execution_count": 10,
      "outputs": [
        {
          "output_type": "stream",
          "name": "stdout",
          "text": [
            "[1, 'a', 'cat', 2, 3, 'dog', 4, 5]\n"
          ]
        }
      ]
    },
    {
      "cell_type": "markdown",
      "metadata": {
        "id": "2AGkYiD-Z7gK"
      },
      "source": [
        "**REVERSE LİST**"
      ]
    },
    {
      "cell_type": "code",
      "metadata": {
        "colab": {
          "base_uri": "https://localhost:8080/"
        },
        "id": "DN0frM7NaH_J",
        "outputId": "9e247707-363e-4c14-a018-99df7d384b9d"
      },
      "source": [
        "regular_list=[[1, 2], [3, 4], [5, 6, 7]]\n",
        "reversed_list = [elem[::-1] for elem in regular_list ][::-1]\n",
        "print('Reversed REgular List')\n",
        "print(reversed_list)"
      ],
      "execution_count": 13,
      "outputs": [
        {
          "output_type": "stream",
          "name": "stdout",
          "text": [
            "Reversed REgular List\n",
            "[[7, 6, 5], [4, 3], [2, 1]]\n"
          ]
        }
      ]
    }
  ]
}